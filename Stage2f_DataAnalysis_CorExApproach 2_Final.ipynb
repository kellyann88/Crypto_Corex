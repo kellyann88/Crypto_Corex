{
 "cells": [
  {
   "cell_type": "code",
   "execution_count": null,
   "id": "altered-guatemala",
   "metadata": {},
   "outputs": [],
   "source": [
    "import pandas as pd\n",
    "import scipy.sparse as ss\n",
    "from corextopic import corextopic as ct\n",
    "from sklearn.feature_extraction.text import CountVectorizer\n",
    "from corextopic import vis_topic as vt\n",
    "import numpy as np\n",
    "import matplotlib.pyplot as plt\n",
    "import networkx as nx\n",
    "from sklearn.preprocessing import MinMaxScaler\n",
    "\n",
    "\n",
    "%matplotlib inline"
   ]
  },
  {
   "cell_type": "code",
   "execution_count": null,
   "id": "gothic-charger",
   "metadata": {},
   "outputs": [],
   "source": [
    "def dummy(doc):\n",
    "    return doc"
   ]
  },
  {
   "cell_type": "code",
   "execution_count": null,
   "id": "previous-cycle",
   "metadata": {},
   "outputs": [],
   "source": [
    "CountV_model = CountVectorizer(analyzer=dummy)"
   ]
  },
  {
   "cell_type": "code",
   "execution_count": null,
   "id": "collected-deposit",
   "metadata": {},
   "outputs": [],
   "source": [
    "final_merged_df = pd.read_pickle(\"/Users/kellycoulter/Desktop/PhD_Code_2021/final_merged_df.pkl\")\n",
    "\n",
    "final_merged_df\n",
    "\n",
    "texts = final_merged_df['Cleaned Tokens']"
   ]
  },
  {
   "cell_type": "code",
   "execution_count": null,
   "id": "appointed-opposition",
   "metadata": {},
   "outputs": [],
   "source": [
    "final_merged_df"
   ]
  },
  {
   "cell_type": "code",
   "execution_count": null,
   "id": "useful-museum",
   "metadata": {},
   "outputs": [],
   "source": [
    "list_text = texts.to_list()"
   ]
  },
  {
   "cell_type": "code",
   "execution_count": null,
   "id": "composite-imagination",
   "metadata": {},
   "outputs": [],
   "source": [
    "vect = CountVectorizer(binary=True, analyzer=dummy)"
   ]
  },
  {
   "cell_type": "code",
   "execution_count": null,
   "id": "tutorial-clerk",
   "metadata": {},
   "outputs": [],
   "source": [
    "matrix = vect.fit_transform(list_text)"
   ]
  },
  {
   "cell_type": "code",
   "execution_count": null,
   "id": "together-apollo",
   "metadata": {},
   "outputs": [],
   "source": [
    "topic_model = ct.Corex(n_hidden=18)"
   ]
  },
  {
   "cell_type": "code",
   "execution_count": null,
   "id": "eight-hacker",
   "metadata": {},
   "outputs": [],
   "source": [
    "topic_model.fit(matrix, words=vect.get_feature_names())"
   ]
  },
  {
   "cell_type": "code",
   "execution_count": null,
   "id": "federal-symphony",
   "metadata": {},
   "outputs": [],
   "source": [
    "topics = topic_model.get_topics()\n",
    "for topic_n, topic in enumerate(topics):\n",
    "    words, mis = zip(*topic)\n",
    "    topic_str = str(topic_n+1)+': '+','.join(words)\n",
    "    print(topic_str)"
   ]
  },
  {
   "cell_type": "code",
   "execution_count": null,
   "id": "confidential-drama",
   "metadata": {},
   "outputs": [],
   "source": [
    "type(docs)"
   ]
  },
  {
   "cell_type": "code",
   "execution_count": null,
   "id": "complete-female",
   "metadata": {},
   "outputs": [],
   "source": [
    "top_docs = topic_model.get_top_docs()\n"
   ]
  },
  {
   "cell_type": "code",
   "execution_count": null,
   "id": "excess-hebrew",
   "metadata": {},
   "outputs": [],
   "source": [
    "top_docs = topic_model.get_top_docs()\n",
    "for topic_n, topic_docs in enumerate(top_docs):\n",
    "    docs,probs = zip(*topic_docs)\n",
    "    topic_str = str(topic_n+1)+\": \"+\",\".join(map(str, docs))\n",
    "    print(topic_str)"
   ]
  },
  {
   "cell_type": "code",
   "execution_count": null,
   "id": "vital-estimate",
   "metadata": {},
   "outputs": [],
   "source": [
    "data = []\n",
    "chosen_topics = [15,17,12]\n",
    "n_docs=15\n",
    "for topic in chosen_topics:\n",
    "    topic_documents = topic_model.get_top_docs(n_docs=n_docs, topic=topic)\n",
    "    indexes = [(index, topic) for index, score in topic_documents]\n",
    "    data.extend(indexes)"
   ]
  },
  {
   "cell_type": "code",
   "execution_count": null,
   "id": "conditional-milton",
   "metadata": {},
   "outputs": [],
   "source": [
    "topic_filter = pd.DataFrame(data, columns = [\"index\", \"topic_number\"]).set_index(\"index\")"
   ]
  },
  {
   "cell_type": "code",
   "execution_count": null,
   "id": "fiscal-assist",
   "metadata": {},
   "outputs": [],
   "source": [
    "top_topic_df = topic_filter.merge(final_merged_df.reset_index(), left_index=True, right_index=True, how=\"left\")"
   ]
  },
  {
   "cell_type": "code",
   "execution_count": null,
   "id": "royal-fundamental",
   "metadata": {},
   "outputs": [],
   "source": [
    "top_topic_df"
   ]
  },
  {
   "cell_type": "code",
   "execution_count": null,
   "id": "violent-drama",
   "metadata": {},
   "outputs": [],
   "source": [
    "topic_model.labels"
   ]
  },
  {
   "cell_type": "code",
   "execution_count": null,
   "id": "indoor-merchant",
   "metadata": {},
   "outputs": [],
   "source": [
    "(top_docs[0])"
   ]
  },
  {
   "cell_type": "code",
   "execution_count": null,
   "id": "accepted-buddy",
   "metadata": {},
   "outputs": [],
   "source": []
  },
  {
   "cell_type": "code",
   "execution_count": null,
   "id": "laughing-heart",
   "metadata": {},
   "outputs": [],
   "source": []
  },
  {
   "cell_type": "code",
   "execution_count": null,
   "id": "surrounded-award",
   "metadata": {},
   "outputs": [],
   "source": [
    "#Topic TC-The overall total correlation is the sum of the total correlation per each topic. \n",
    "#These can be accessed through tcs. \n",
    "#For an unsupervised CorEx topic model, the topics are always sorted from high to low according to their TC. \n",
    "topic_model.tcs.shape # k_topics"
   ]
  },
  {
   "cell_type": "code",
   "execution_count": null,
   "id": "sapphire-transfer",
   "metadata": {},
   "outputs": [],
   "source": [
    "print(topic_model.clusters)\n",
    "print(topic_model.clusters.shape) # m_words"
   ]
  },
  {
   "cell_type": "code",
   "execution_count": null,
   "id": "anonymous-sudan",
   "metadata": {},
   "outputs": [],
   "source": [
    "# Print a single topic from CorEx topic model\n",
    "topic_model.get_top_docs(topic=2, n_docs=10, sort_by='log_prob')"
   ]
  },
  {
   "cell_type": "code",
   "execution_count": null,
   "id": "miniature-friendship",
   "metadata": {},
   "outputs": [],
   "source": [
    "#CorEx is a discriminative model, whereas LDA is a generative model. \n",
    "#This means that while LDA outputs a probability distribution over each document, \n",
    "#CorEx instead estimates the probability a document belongs to a topic given that document's words. \n",
    "#As a result, the probabilities across topics for a given document do not have to add up to 1. \n",
    "#The estimated probabilities of topics for each document can be accessed through log_p_y_given_x or p_y_given_x.\n",
    "print(topic_model.p_y_given_x.shape) # n_docs x k_topics\n"
   ]
  },
  {
   "cell_type": "code",
   "execution_count": null,
   "id": "killing-cylinder",
   "metadata": {},
   "outputs": [],
   "source": [
    "#We can also use a softmax to make a binary determination of which documents belong to each topic. \n",
    "#These softmax labels can be accessed through labels.\n",
    "print(topic_model.labels.shape) # n_docs x k_topics"
   ]
  },
  {
   "cell_type": "code",
   "execution_count": null,
   "id": "received-therapy",
   "metadata": {},
   "outputs": [],
   "source": [
    "pd.DataFrame(topic_model.labels).sum().sort_values().plot.bar()"
   ]
  },
  {
   "cell_type": "code",
   "execution_count": null,
   "id": "discrete-oracle",
   "metadata": {},
   "outputs": [],
   "source": [
    "label_df = pd.DataFrame(topic_model.labels)*1"
   ]
  },
  {
   "cell_type": "code",
   "execution_count": null,
   "id": "protected-gregory",
   "metadata": {},
   "outputs": [],
   "source": [
    "label_df"
   ]
  },
  {
   "cell_type": "code",
   "execution_count": null,
   "id": "dynamic-hayes",
   "metadata": {},
   "outputs": [],
   "source": [
    "Scaler = MinMaxScaler()"
   ]
  },
  {
   "cell_type": "code",
   "execution_count": null,
   "id": "checked-london",
   "metadata": {},
   "outputs": [],
   "source": [
    "cooc = label_df.T.dot(label_df)\n",
    "np.fill_diagonal(cooc.values, 0)\n",
    "cooc.style.background_gradient(cmap=\"viridis\")"
   ]
  },
  {
   "cell_type": "code",
   "execution_count": null,
   "id": "interpreted-catch",
   "metadata": {},
   "outputs": [],
   "source": [
    "cooc = label_df.T.dot(label_df)\n",
    "np.fill_diagonal(cooc.values, 0)\n",
    "cooc = pd.DataFrame(Scaler.fit_transform(cooc))\n",
    "cooc.style.background_gradient(cmap=\"viridis\")"
   ]
  },
  {
   "cell_type": "code",
   "execution_count": null,
   "id": "conservative-plastic",
   "metadata": {},
   "outputs": [],
   "source": []
  },
  {
   "cell_type": "code",
   "execution_count": null,
   "id": "cellular-democracy",
   "metadata": {},
   "outputs": [],
   "source": []
  },
  {
   "cell_type": "code",
   "execution_count": null,
   "id": "little-kansas",
   "metadata": {},
   "outputs": [],
   "source": [
    "pd.DataFrame(topic_model.p_y_given_x)"
   ]
  },
  {
   "cell_type": "code",
   "execution_count": null,
   "id": "banner-landscape",
   "metadata": {},
   "outputs": [],
   "source": [
    "pd.DataFrame(topic_model.p_y_given_x).mean()"
   ]
  },
  {
   "cell_type": "code",
   "execution_count": null,
   "id": "north-surveillance",
   "metadata": {},
   "outputs": [],
   "source": []
  },
  {
   "cell_type": "code",
   "execution_count": null,
   "id": "retained-tampa",
   "metadata": {},
   "outputs": [],
   "source": [
    "#Total correlation is the measure which CorEx maximize when constructing the topic model. \n",
    "#It can be accessed through tc and is reported in nats.\n",
    "topic_model.tc"
   ]
  },
  {
   "cell_type": "code",
   "execution_count": null,
   "id": "embedded-conducting",
   "metadata": {},
   "outputs": [],
   "source": [
    "print(np.sum(topic_model.tcs))\n",
    "print(topic_model.tc)"
   ]
  },
  {
   "cell_type": "code",
   "execution_count": null,
   "id": "scientific-ensemble",
   "metadata": {},
   "outputs": [],
   "source": [
    "plt.figure(figsize=(10,5))\n",
    "plt.bar(range(topic_model.tcs.shape[0]), topic_model.tcs, color='#4e79a7', width=0.5)\n",
    "plt.xlabel('Topic', fontsize=16)\n",
    "plt.ylabel('Total Correlation (nats)', fontsize=16);"
   ]
  },
  {
   "cell_type": "code",
   "execution_count": null,
   "id": "amazing-turner",
   "metadata": {},
   "outputs": [],
   "source": [
    "#https://github.com/gregversteeg/corex_topic/blob/master/corextopic/example/corex_topic_example.ipynb"
   ]
  },
  {
   "cell_type": "code",
   "execution_count": null,
   "id": "bibliographic-restriction",
   "metadata": {},
   "outputs": [],
   "source": []
  },
  {
   "cell_type": "code",
   "execution_count": null,
   "id": "level-hypothesis",
   "metadata": {},
   "outputs": [],
   "source": [
    "top_topic_df[]"
   ]
  }
 ],
 "metadata": {
  "kernelspec": {
   "display_name": "Python 3",
   "language": "python",
   "name": "python3"
  },
  "language_info": {
   "codemirror_mode": {
    "name": "ipython",
    "version": 3
   },
   "file_extension": ".py",
   "mimetype": "text/x-python",
   "name": "python",
   "nbconvert_exporter": "python",
   "pygments_lexer": "ipython3",
   "version": "3.7.3"
  }
 },
 "nbformat": 4,
 "nbformat_minor": 5
}
